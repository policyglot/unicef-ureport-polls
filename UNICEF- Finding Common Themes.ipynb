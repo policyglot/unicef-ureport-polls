{
 "cells": [
  {
   "cell_type": "markdown",
   "metadata": {},
   "source": [
    "# UNICEF- Finding Common Themes"
   ]
  },
  {
   "cell_type": "markdown",
   "metadata": {},
   "source": [
    "This notebook serves to convert the original dataset into clusters of translated questions with similar themes"
   ]
  },
  {
   "cell_type": "code",
   "execution_count": 1,
   "metadata": {},
   "outputs": [
    {
     "name": "stderr",
     "output_type": "stream",
     "text": [
      "c:\\users\\hp\\appdata\\local\\programs\\python\\python38-32\\lib\\site-packages\\tqdm\\std.py:658: FutureWarning: The Panel class is removed from pandas. Accessing it from the top-level namespace will also be removed in the next version\n",
      "  from pandas import Panel\n"
     ]
    }
   ],
   "source": [
    "#First,the usual imports\n",
    "import numpy as np\n",
    "import pandas as pd\n",
    "import random\n",
    "from tqdm import tqdm\n",
    "tqdm.pandas()\n",
    "import re\n",
    "from nltk.corpus import stopwords"
   ]
  },
  {
   "cell_type": "code",
   "execution_count": 39,
   "metadata": {},
   "outputs": [],
   "source": [
    "#Now the aim is to translate all the questions and find the relevant ones\n",
    "from googletrans import Translator\n",
    "translator = Translator()"
   ]
  },
  {
   "cell_type": "code",
   "execution_count": 26,
   "metadata": {},
   "outputs": [],
   "source": [
    "df = pd.read_csv('ureport_sample.csv')"
   ]
  },
  {
   "cell_type": "code",
   "execution_count": 5,
   "metadata": {},
   "outputs": [],
   "source": [
    "non_eng_polls = df[df['org_language'] != 'en'][['poll_title', 'question_title', \n",
    "                                                'org_language', 'poll_category_name']]\n",
    "#It would make sense to remove duplicates"
   ]
  },
  {
   "cell_type": "code",
   "execution_count": 8,
   "metadata": {},
   "outputs": [
    {
     "name": "stdout",
     "output_type": "stream",
     "text": [
      "299\n",
      "['Comunicación' 'Inclusión' 'Protección' 'Participación Adolescente'\n",
      " 'Educación' 'Salud' 'Fechas Importantes' 'Igualdad de Género'\n",
      " 'Cambio Climático' 'Adolescencia' 'Participación' 'Niñez' 'embarazo'\n",
      " 'General' 'Ureporteri' 'U-Report Brasil' 'Saúde' 'Educação'\n",
      " 'ODS 2 - Fome Zero' '+Q' 'Objetivos do Desenvolvimento Sustentável' 'ODS'\n",
      " 'Mete a colher' 'ODS Geral' 'HIV ' 'Política' 'Migrantes' 'Aprendiz'\n",
      " 'Esportes' 'Violência Sexual' 'Evasão Escolar' 'Corpo e Gordofobia'\n",
      " 'ODS 5 - Igualdade de Gênero' 'Corpo' 'Redução' 'Juv e Trabalho'\n",
      " 'Direitos Reprodutivos e Prevenções' 'Proteção'\n",
      " \"ODS 14 - Vida debaixo D'Água\"\n",
      " 'ODS 9 - Indústria, Inovação e Infraestrutura'\n",
      " 'ODS 3 - Saúde e Bem-Estar' 'ODS 1 - Erradicação da Pobreza'\n",
      " 'Abordagem Policial' 'Acesso à justiça' 'ARMAS' 'DROGAS' 'Rede LGBT'\n",
      " 'Letalidade Violenta' 'Segurança' 'S4D' 'Opinions' 'Participation'\n",
      " 'Education' 'Santé' 'Cybercrime' 'Nutrition' 'Hygiène'\n",
      " \"Droits de l'enfant\" 'Général' 'Eau, Assainissement et Hygiène'\n",
      " \"Protection de l'enfant\" 'Environnement' 'Helpline' 'Sustentabilidad'\n",
      " 'Contingencia' 'Politique Social' 'Jeunesse' 'Jeunessse  / Adolescence'\n",
      " 'Enfance' 'U-Report' 'Opiniones' 'Participation des jeunes' 'Protection '\n",
      " 'Eau et hygiène' 'VIH/Sida' \"Droits de l'Homme\" 'Emploi' 'Média'\n",
      " 'Diplomatie' 'Consommation' 'Politique' 'Sports' 'Économie et finances'\n",
      " 'Innovations' 'Santé reproductive sexuelle' 'Culture' 'Emergencia'\n",
      " 'Emergencias' 'Políticas Sociales' 'Zika' 'Internet' 'Éducation'\n",
      " 'Citoyenneté' 'Protection' 'Engagement/solidarité' 'Sport' 'Inégalités'\n",
      " \"Radio Mouv'\" 'Agua y sanimiento' 'Salud Adolescente' 'Protección '\n",
      " 'U-Report Guatemala' 'Participación adolescente' 'Uso de tiempo libre'\n",
      " 'Cambio Climático 2' 'Primera Infancia' 'Matrimonio infantil'\n",
      " 'Embarazo adolescente' 'Objetivos de Desarrollo Sostenible (ODS)'\n",
      " 'SANTÉ ' 'GOUVERNANCE' 'POLITIQUES SOCIALES (Social inclusion)'\n",
      " 'EDUCATION' 'Wash' 'SPORT' 'VIH/ SIDA' \"PROTECTION DE L'ENFANT\"\n",
      " 'Communcation Externe' 'Droits des enfants' 'Niñez y adolescencia'\n",
      " 'Join & Engage' 'Redes sociales' 'Políticas' 'Innovation' 'ADAP'\n",
      " 'Child Protection' 'Social Policy' 'HIV/AIDS' 'Immunization'\n",
      " 'Children on the Move' 'Derechos' 'Tecnología' 'Alte sondaje'\n",
      " 'Sănătate și bunăstare' 'Media și tehnologie' 'Educație și viața școlară'\n",
      " 'Drepturile copiilor & monitorizare' 'Carieră'\n",
      " 'Monitorizarea drepturilor' 'Obiectivele de Dezvoltare Durabilă'\n",
      " 'Participare si dezvoltare' 'Protecția copilului' 'Mediu înconjurător'\n",
      " 'CORONAVIRUS 2019 - (COVID-19)' 'EMPREGO' 'Ouro Negro'\n",
      " 'Inquérito de Satisfação sobre Serviços de SSR - 09 Dec 2019'\n",
      " 'Child Protection - Bilhete de Identidade' 'Ciclone IDAI e Cheias'\n",
      " 'Campanha de Vacinacao do Polio' 'Social Mobilizers_WASH Interventions'\n",
      " 'CIDADES AMIGAS DAS CRIANCAS' 'Saúde Materna Infantil'\n",
      " 'Pré-Campanha sobre a Pólio - 28 a 29 de Janeiro 2018'\n",
      " 'São Valentim - Dia dos Namorados'\n",
      " 'Inquérito de Satisfação sobre Serviços de SSR - SOFH 15.12.18'\n",
      " 'World Children Day 20th November 2018' 'Radionovela os Intxunáveis'\n",
      " 'Prevencao do consumo de alcool, tabaco e drogas  ilegais.'\n",
      " 'Inquérito Global sobre os Cuidados de Saúde Primários'\n",
      " 'Violencia nas escolas' 'Dia Internacional do Albinismo'\n",
      " 'DIA MUNDIAL DA CRIANÇA' 'DIA INTERNACIONAL DA MULHER'\n",
      " 'HIV, TRANSMISSÃO, PREVENÇÃO, TRATAMENTO' 'ADESÃO AS UNIDADES SANITÁRIAS'\n",
      " 'SMS BIZ - COMO USAR' 'Higiene Menstrual - 28 Maio'\n",
      " 'SAÚDE SEXUAL E REPRODUTIVA' 'EDUCAÇÃO' 'Violência contra as Raparigas'\n",
      " 'Casamentos Prematuros' 'Violência contra Menores' 'Comunicação'\n",
      " 'MALARIA' 'RELACIONAMENTOS' 'SEXUALIDADE' 'Health' 'Climate Change'\n",
      " 'Governance' 'Youth & Digital' 'Youth' 'Disaster' 'Infrastructure'\n",
      " 'Child protection' 'Peace and Social Cohesion' 'Gender' 'Employment'\n",
      " 'Youth policy' 'U-reporters General' 'Outbreaks' 'Water and Sanitation'\n",
      " 'Advocacy 4' 'Ureport & Policy Makers ' 'GIRL CHILD ' 'SDGs'\n",
      " 'Innovation ' \"Partner's poll\" 'OVP polls' 'Global poll' 'Polio comms'\n",
      " 'FMoH/NPHCDA' 'COVID19' 'Diritti' 'Emergenza' 'Coinvolgimento giovani'\n",
      " 'Hate speech' 'Aspirazioni' 'Scuola' 'Accesso ai servizi' 'Tolleranza'\n",
      " 'Orientamento Professionale' 'Sistema di accoglienza'\n",
      " 'Informazioni legali' 'Attività ricreative' 'Ambiente' 'Sondaje' 'Paix'\n",
      " 'Santé- Wash' 'Santé et Nutrition' 'U-Report Senegal'\n",
      " 'Plaidoyer et Participation' 'VIH/SIDA' 'Emploi et Entrepreneuriat '\n",
      " 'Zaštita životne sredine' 'Obrazovanje' 'Ankete' 'Bezbednost'\n",
      " 'Obrada podataka' 'Prioriteti mladih' 'Ishrana' 'Zapošljavanje'\n",
      " 'Informisanje' 'Ravnopravnost' 'Prevencija nasilja' 'Communication'\n",
      " 'Sante' 'Hygiene' 'Entreprenariat' 'Changement Climatique' 'Polio'\n",
      " 'Volontariat en Tunisie' \"Lutte contre l'abandon scolaire\"\n",
      " 'Journée mondiale des enfants'\n",
      " \"Journée mondiale des enfants (World Children's Day)\"\n",
      " \"Violence à l'égard des enfants et adolescents\" 'Migration'\n",
      " 'Citoyenneté mondiale' 'Transport scolaire' 'Sujets U-Report'\n",
      " \"Ta'lim / Образование\" 'Jamiyat / Общество'\n",
      " \"Sog'liqni saqlash / Здравоохранение\" 'Ish / Работа'\n",
      " 'Innovatsiya / Инновация' 'Yoshlar / Молодежь' \"Bo'sh vaqt / Досуг\"\n",
      " 'Ijtimoiy masalalar / Социальные вопросы' 'Cyber Bullying'\n",
      " 'Bạo lực công cộng' 'Bạo lực gia đình' 'School bullying'\n",
      " 'U-Report Albania - Local Polls' 'Kosovo Local Polls'\n",
      " 'Montenegro Local Polls' 'U-Report Western Balkans' 'Youth Engagement'\n",
      " 'WASH' 'Climate and Environment' 'Освіта' 'SDGs - Цілі сталого розвитку'\n",
      " 'LifeStyle' \"Здоров'я\" 'Загальні' 'Саморозвиток'\n",
      " '#EndViolence - Протидія насильству' 'Урбаністика' 'U-Report у світі'\n",
      " 'Мистецтво' 'Гендерна рівність' 'New Year' 'ВІЛ/СНІД'\n",
      " 'Corona Virus Response' 'Child Rights' 'Mental Health' 'Well Being'\n",
      " 'Poll' 'Violence Against Children' 'เสียงเยาวชน' 'การคุ้มครองเด็ก'\n",
      " 'การศึกษา' 'อื่นๆ' 'นโยบายสังคม และ งานรณรงค์' 'เอชไอวี/เอดส์'\n",
      " 'Other images' 'สุขภาพ' 'สิทธิเด็ก' 'สถานการณ์ฉุกเฉิน' 'ความเหลื่อมล้ำ']\n"
     ]
    }
   ],
   "source": [
    "all_poll_categs = non_eng_polls['poll_category_name'].unique()\n",
    "print(len(all_poll_categs))\n",
    "print(all_poll_categs)"
   ]
  },
  {
   "cell_type": "markdown",
   "metadata": {},
   "source": [
    "Important Observations:\n",
    "- Some of these themes are in two languages separated by a slash. \n",
    "- Some polls- especially in the Balkan region- simply use 'Polls' or 'U-Report' in the titles. We will have to dig deeper to find the questions within them\n",
    "\n",
    "There are only 299 categories. We will now create a function to store a dictionary of these 299 mappings (and any changes resulting from the points above). This would prove more efficient than running Google Translate over thousands of lines of code. It would most likely push us past the daily API call limit. \n"
   ]
  },
  {
   "cell_type": "markdown",
   "metadata": {},
   "source": [
    "## Preprocessing for Google Translate"
   ]
  },
  {
   "cell_type": "code",
   "execution_count": 10,
   "metadata": {},
   "outputs": [
    {
     "data": {
      "text/plain": [
       "array(['es', 'bs', 'pt-br', 'bg', 'fr', 'id', 'ar', 'ro', 'pt', 'my', nan,\n",
       "       'it', 'sr-rs@latin', 'uz', 'vi', 'uk', 'th'], dtype=object)"
      ]
     },
     "execution_count": 10,
     "metadata": {},
     "output_type": "execute_result"
    }
   ],
   "source": [
    "#We are assuming that the language codes are the same in Google Translate and our data\n",
    "non_eng_polls['org_language'].unique()"
   ]
  },
  {
   "cell_type": "markdown",
   "metadata": {},
   "source": [
    "Cross-checking against the Google Translate list, we find a few mismatches\n",
    "https://cloud.google.com/translate/docs/languages\n"
   ]
  },
  {
   "cell_type": "code",
   "execution_count": 13,
   "metadata": {},
   "outputs": [
    {
     "data": {
      "text/html": [
       "<div>\n",
       "<style scoped>\n",
       "    .dataframe tbody tr th:only-of-type {\n",
       "        vertical-align: middle;\n",
       "    }\n",
       "\n",
       "    .dataframe tbody tr th {\n",
       "        vertical-align: top;\n",
       "    }\n",
       "\n",
       "    .dataframe thead th {\n",
       "        text-align: right;\n",
       "    }\n",
       "</style>\n",
       "<table border=\"1\" class=\"dataframe\">\n",
       "  <thead>\n",
       "    <tr style=\"text-align: right;\">\n",
       "      <th></th>\n",
       "      <th>poll_title</th>\n",
       "      <th>question_title</th>\n",
       "      <th>org_language</th>\n",
       "      <th>poll_category_name</th>\n",
       "    </tr>\n",
       "  </thead>\n",
       "  <tbody>\n",
       "    <tr>\n",
       "      <th>22126</th>\n",
       "      <td>Životna sredina</td>\n",
       "      <td>Da li si informisan/a o stanju životne sredine...</td>\n",
       "      <td>sr-rs@latin</td>\n",
       "      <td>Zaštita životne sredine</td>\n",
       "    </tr>\n",
       "    <tr>\n",
       "      <th>22127</th>\n",
       "      <td>Životna sredina</td>\n",
       "      <td>Da li si informisan/a o stanju životne sredine...</td>\n",
       "      <td>sr-rs@latin</td>\n",
       "      <td>Zaštita životne sredine</td>\n",
       "    </tr>\n",
       "    <tr>\n",
       "      <th>22128</th>\n",
       "      <td>Životna sredina</td>\n",
       "      <td>Da li si informisan/a o stanju životne sredine...</td>\n",
       "      <td>sr-rs@latin</td>\n",
       "      <td>Zaštita životne sredine</td>\n",
       "    </tr>\n",
       "    <tr>\n",
       "      <th>22129</th>\n",
       "      <td>Životna sredina</td>\n",
       "      <td>Da li si informisan/a o stanju životne sredine...</td>\n",
       "      <td>sr-rs@latin</td>\n",
       "      <td>Zaštita životne sredine</td>\n",
       "    </tr>\n",
       "    <tr>\n",
       "      <th>22130</th>\n",
       "      <td>Životna sredina</td>\n",
       "      <td>Da li si informisan/a o stanju životne sredine...</td>\n",
       "      <td>sr-rs@latin</td>\n",
       "      <td>Zaštita životne sredine</td>\n",
       "    </tr>\n",
       "    <tr>\n",
       "      <th>...</th>\n",
       "      <td>...</td>\n",
       "      <td>...</td>\n",
       "      <td>...</td>\n",
       "      <td>...</td>\n",
       "    </tr>\n",
       "    <tr>\n",
       "      <th>23221</th>\n",
       "      <td>Nasilje</td>\n",
       "      <td>Kom tipu nasilja nad decom bi najpre trebalo d...</td>\n",
       "      <td>sr-rs@latin</td>\n",
       "      <td>Prevencija nasilja</td>\n",
       "    </tr>\n",
       "    <tr>\n",
       "      <th>23222</th>\n",
       "      <td>Nasilje</td>\n",
       "      <td>Na koji način bi deca trebalo da se uključe ka...</td>\n",
       "      <td>sr-rs@latin</td>\n",
       "      <td>Prevencija nasilja</td>\n",
       "    </tr>\n",
       "    <tr>\n",
       "      <th>23223</th>\n",
       "      <td>Nasilje</td>\n",
       "      <td>Na koji način bi deca trebalo da se uključe ka...</td>\n",
       "      <td>sr-rs@latin</td>\n",
       "      <td>Prevencija nasilja</td>\n",
       "    </tr>\n",
       "    <tr>\n",
       "      <th>23224</th>\n",
       "      <td>Nasilje</td>\n",
       "      <td>Na koji način bi deca trebalo da se uključe ka...</td>\n",
       "      <td>sr-rs@latin</td>\n",
       "      <td>Prevencija nasilja</td>\n",
       "    </tr>\n",
       "    <tr>\n",
       "      <th>23225</th>\n",
       "      <td>Nasilje</td>\n",
       "      <td>Na koji način bi deca trebalo da se uključe ka...</td>\n",
       "      <td>sr-rs@latin</td>\n",
       "      <td>Prevencija nasilja</td>\n",
       "    </tr>\n",
       "  </tbody>\n",
       "</table>\n",
       "<p>1100 rows × 4 columns</p>\n",
       "</div>"
      ],
      "text/plain": [
       "            poll_title                                     question_title  \\\n",
       "22126  Životna sredina  Da li si informisan/a o stanju životne sredine...   \n",
       "22127  Životna sredina  Da li si informisan/a o stanju životne sredine...   \n",
       "22128  Životna sredina  Da li si informisan/a o stanju životne sredine...   \n",
       "22129  Životna sredina  Da li si informisan/a o stanju životne sredine...   \n",
       "22130  Životna sredina  Da li si informisan/a o stanju životne sredine...   \n",
       "...                ...                                                ...   \n",
       "23221          Nasilje  Kom tipu nasilja nad decom bi najpre trebalo d...   \n",
       "23222          Nasilje  Na koji način bi deca trebalo da se uključe ka...   \n",
       "23223          Nasilje  Na koji način bi deca trebalo da se uključe ka...   \n",
       "23224          Nasilje  Na koji način bi deca trebalo da se uključe ka...   \n",
       "23225          Nasilje  Na koji način bi deca trebalo da se uključe ka...   \n",
       "\n",
       "      org_language       poll_category_name  \n",
       "22126  sr-rs@latin  Zaštita životne sredine  \n",
       "22127  sr-rs@latin  Zaštita životne sredine  \n",
       "22128  sr-rs@latin  Zaštita životne sredine  \n",
       "22129  sr-rs@latin  Zaštita životne sredine  \n",
       "22130  sr-rs@latin  Zaštita životne sredine  \n",
       "...            ...                      ...  \n",
       "23221  sr-rs@latin       Prevencija nasilja  \n",
       "23222  sr-rs@latin       Prevencija nasilja  \n",
       "23223  sr-rs@latin       Prevencija nasilja  \n",
       "23224  sr-rs@latin       Prevencija nasilja  \n",
       "23225  sr-rs@latin       Prevencija nasilja  \n",
       "\n",
       "[1100 rows x 4 columns]"
      ]
     },
     "execution_count": 13,
     "metadata": {},
     "output_type": "execute_result"
    }
   ],
   "source": [
    "non_eng_polls.loc[non_eng_polls['org_language']=='sr-rs@latin']"
   ]
  },
  {
   "cell_type": "markdown",
   "metadata": {},
   "source": [
    "A quick check reveals that this is Serbian/Croatian, which is represented in Google translate as 'hr'. \n",
    "Brazilian Portuguese can be replaced by Portuguese."
   ]
  },
  {
   "cell_type": "code",
   "execution_count": 17,
   "metadata": {},
   "outputs": [],
   "source": [
    "#Completing the first two replacements\n",
    "non_eng_polls['org_language'].replace('pt-br', 'pt', inplace=True)\n",
    "non_eng_polls['org_language'].replace('sr-rs@latin', 'hr', inplace=True)"
   ]
  },
  {
   "cell_type": "code",
   "execution_count": 19,
   "metadata": {},
   "outputs": [
    {
     "data": {
      "text/html": [
       "<div>\n",
       "<style scoped>\n",
       "    .dataframe tbody tr th:only-of-type {\n",
       "        vertical-align: middle;\n",
       "    }\n",
       "\n",
       "    .dataframe tbody tr th {\n",
       "        vertical-align: top;\n",
       "    }\n",
       "\n",
       "    .dataframe thead th {\n",
       "        text-align: right;\n",
       "    }\n",
       "</style>\n",
       "<table border=\"1\" class=\"dataframe\">\n",
       "  <thead>\n",
       "    <tr style=\"text-align: right;\">\n",
       "      <th></th>\n",
       "      <th>poll_title</th>\n",
       "      <th>question_title</th>\n",
       "      <th>org_language</th>\n",
       "      <th>poll_category_name</th>\n",
       "    </tr>\n",
       "  </thead>\n",
       "  <tbody>\n",
       "    <tr>\n",
       "      <th>37217</th>\n",
       "      <td>Karantinda bolalar vaqtini uyda qanday o’tkazy...</td>\n",
       "      <td>2)\\tSiz bu bolaga kimsiz? / Кем Вы являетесь д...</td>\n",
       "      <td>uz</td>\n",
       "      <td>Ta'lim / Образование</td>\n",
       "    </tr>\n",
       "    <tr>\n",
       "      <th>37218</th>\n",
       "      <td>Karantinda bolalar vaqtini uyda qanday o’tkazy...</td>\n",
       "      <td>3)\\tKarantin tufayli bog'chalar yopilganidan s...</td>\n",
       "      <td>uz</td>\n",
       "      <td>Ta'lim / Образование</td>\n",
       "    </tr>\n",
       "    <tr>\n",
       "      <th>37219</th>\n",
       "      <td>Karantinda bolalar vaqtini uyda qanday o’tkazy...</td>\n",
       "      <td>6)\\tBog’chaga borolmaslik, do’stlari, tarbiyac...</td>\n",
       "      <td>uz</td>\n",
       "      <td>Ta'lim / Образование</td>\n",
       "    </tr>\n",
       "    <tr>\n",
       "      <th>37220</th>\n",
       "      <td>Karantinda bolalar vaqtini uyda qanday o’tkazy...</td>\n",
       "      <td>6)\\tBog’chaga borolmaslik, do’stlari, tarbiyac...</td>\n",
       "      <td>uz</td>\n",
       "      <td>Ta'lim / Образование</td>\n",
       "    </tr>\n",
       "    <tr>\n",
       "      <th>37221</th>\n",
       "      <td>Karantinda bolalar vaqtini uyda qanday o’tkazy...</td>\n",
       "      <td>6)\\tBog’chaga borolmaslik, do’stlari, tarbiyac...</td>\n",
       "      <td>uz</td>\n",
       "      <td>Ta'lim / Образование</td>\n",
       "    </tr>\n",
       "    <tr>\n",
       "      <th>...</th>\n",
       "      <td>...</td>\n",
       "      <td>...</td>\n",
       "      <td>...</td>\n",
       "      <td>...</td>\n",
       "    </tr>\n",
       "    <tr>\n",
       "      <th>38166</th>\n",
       "      <td>Yoshlarning ijtimoiy faolligi / Социальная акт...</td>\n",
       "      <td>Tuman/mahallangizni o’zgartirish bo’yicha g’oy...</td>\n",
       "      <td>uz</td>\n",
       "      <td>Yoshlar / Молодежь</td>\n",
       "    </tr>\n",
       "    <tr>\n",
       "      <th>38167</th>\n",
       "      <td>Yoshlarning ijtimoiy faolligi / Социальная акт...</td>\n",
       "      <td>Tuman/mahallangizni o’zgartirish bo’yicha g’oy...</td>\n",
       "      <td>uz</td>\n",
       "      <td>Yoshlar / Молодежь</td>\n",
       "    </tr>\n",
       "    <tr>\n",
       "      <th>38168</th>\n",
       "      <td>Yoshlarning ijtimoiy faolligi / Социальная акт...</td>\n",
       "      <td>Tuman/mahallangizni o’zgartirish bo’yicha g’oy...</td>\n",
       "      <td>uz</td>\n",
       "      <td>Yoshlar / Молодежь</td>\n",
       "    </tr>\n",
       "    <tr>\n",
       "      <th>38169</th>\n",
       "      <td>Yoshlarning ijtimoiy faolligi / Социальная акт...</td>\n",
       "      <td>Tuman/mahallangizni rivojlantirishda ko’ngilli...</td>\n",
       "      <td>uz</td>\n",
       "      <td>Yoshlar / Молодежь</td>\n",
       "    </tr>\n",
       "    <tr>\n",
       "      <th>38170</th>\n",
       "      <td>U-Reportda nima haqida muloqot qilmoqchisiz? /...</td>\n",
       "      <td>U-Reportda qaysi mavzularda muloqot qilisni is...</td>\n",
       "      <td>uz</td>\n",
       "      <td>Yoshlar / Молодежь</td>\n",
       "    </tr>\n",
       "  </tbody>\n",
       "</table>\n",
       "<p>954 rows × 4 columns</p>\n",
       "</div>"
      ],
      "text/plain": [
       "                                              poll_title  \\\n",
       "37217  Karantinda bolalar vaqtini uyda qanday o’tkazy...   \n",
       "37218  Karantinda bolalar vaqtini uyda qanday o’tkazy...   \n",
       "37219  Karantinda bolalar vaqtini uyda qanday o’tkazy...   \n",
       "37220  Karantinda bolalar vaqtini uyda qanday o’tkazy...   \n",
       "37221  Karantinda bolalar vaqtini uyda qanday o’tkazy...   \n",
       "...                                                  ...   \n",
       "38166  Yoshlarning ijtimoiy faolligi / Социальная акт...   \n",
       "38167  Yoshlarning ijtimoiy faolligi / Социальная акт...   \n",
       "38168  Yoshlarning ijtimoiy faolligi / Социальная акт...   \n",
       "38169  Yoshlarning ijtimoiy faolligi / Социальная акт...   \n",
       "38170  U-Reportda nima haqida muloqot qilmoqchisiz? /...   \n",
       "\n",
       "                                          question_title org_language  \\\n",
       "37217  2)\\tSiz bu bolaga kimsiz? / Кем Вы являетесь д...           uz   \n",
       "37218  3)\\tKarantin tufayli bog'chalar yopilganidan s...           uz   \n",
       "37219  6)\\tBog’chaga borolmaslik, do’stlari, tarbiyac...           uz   \n",
       "37220  6)\\tBog’chaga borolmaslik, do’stlari, tarbiyac...           uz   \n",
       "37221  6)\\tBog’chaga borolmaslik, do’stlari, tarbiyac...           uz   \n",
       "...                                                  ...          ...   \n",
       "38166  Tuman/mahallangizni o’zgartirish bo’yicha g’oy...           uz   \n",
       "38167  Tuman/mahallangizni o’zgartirish bo’yicha g’oy...           uz   \n",
       "38168  Tuman/mahallangizni o’zgartirish bo’yicha g’oy...           uz   \n",
       "38169  Tuman/mahallangizni rivojlantirishda ko’ngilli...           uz   \n",
       "38170  U-Reportda qaysi mavzularda muloqot qilisni is...           uz   \n",
       "\n",
       "         poll_category_name  \n",
       "37217  Ta'lim / Образование  \n",
       "37218  Ta'lim / Образование  \n",
       "37219  Ta'lim / Образование  \n",
       "37220  Ta'lim / Образование  \n",
       "37221  Ta'lim / Образование  \n",
       "...                     ...  \n",
       "38166    Yoshlar / Молодежь  \n",
       "38167    Yoshlar / Молодежь  \n",
       "38168    Yoshlar / Молодежь  \n",
       "38169    Yoshlar / Молодежь  \n",
       "38170    Yoshlar / Молодежь  \n",
       "\n",
       "[954 rows x 4 columns]"
      ]
     },
     "execution_count": 19,
     "metadata": {},
     "output_type": "execute_result"
    }
   ],
   "source": [
    "#Exploring the Uzbek case\n",
    "non_eng_polls.loc[non_eng_polls['org_language']=='uz']"
   ]
  },
  {
   "cell_type": "markdown",
   "metadata": {},
   "source": [
    "Fortunately, because of its Soviet history, the Uzbek questions carries the Russian translation after a slash. This could come in handy in case the lookup in Uzbek fails. Currently however, it may be a liability by including two languages in one piece of text. So we will remove the Russian that occurs after the slash.  "
   ]
  },
  {
   "cell_type": "code",
   "execution_count": 21,
   "metadata": {},
   "outputs": [],
   "source": [
    "def keep_preslash(text):\n",
    "    return text.split('/')[0]"
   ]
  },
  {
   "cell_type": "code",
   "execution_count": 23,
   "metadata": {},
   "outputs": [
    {
     "name": "stdout",
     "output_type": "stream",
     "text": [
      "Yoshlar \n"
     ]
    }
   ],
   "source": [
    "print(keep_preslash('Yoshlar / Молодежь'))"
   ]
  },
  {
   "cell_type": "code",
   "execution_count": 27,
   "metadata": {},
   "outputs": [
    {
     "name": "stderr",
     "output_type": "stream",
     "text": [
      "<ipython-input-27-ccf436f3b3a5>:1: SettingWithCopyWarning: \n",
      "A value is trying to be set on a copy of a slice from a DataFrame.\n",
      "Try using .loc[row_indexer,col_indexer] = value instead\n",
      "\n",
      "See the caveats in the documentation: https://pandas.pydata.org/pandas-docs/stable/user_guide/indexing.html#returning-a-view-versus-a-copy\n",
      "  non_eng_polls.loc[non_eng_polls['org_language']=='uz']['poll_category_name'] = non_eng_polls['poll_category_name'].apply(keep_preslash)\n"
     ]
    }
   ],
   "source": [
    "non_eng_polls.loc[non_eng_polls['org_language']=='uz']['poll_category_name'] = non_eng_polls['poll_category_name'].apply(keep_preslash)"
   ]
  },
  {
   "cell_type": "code",
   "execution_count": 28,
   "metadata": {},
   "outputs": [
    {
     "data": {
      "text/plain": [
       "37217    Ta'lim / Образование\n",
       "37218    Ta'lim / Образование\n",
       "37219    Ta'lim / Образование\n",
       "37220    Ta'lim / Образование\n",
       "37221    Ta'lim / Образование\n",
       "                 ...         \n",
       "38166      Yoshlar / Молодежь\n",
       "38167      Yoshlar / Молодежь\n",
       "38168      Yoshlar / Молодежь\n",
       "38169      Yoshlar / Молодежь\n",
       "38170      Yoshlar / Молодежь\n",
       "Name: poll_category_name, Length: 954, dtype: object"
      ]
     },
     "execution_count": 28,
     "metadata": {},
     "output_type": "execute_result"
    }
   ],
   "source": [
    "non_eng_polls.loc[non_eng_polls['org_language']=='uz']['poll_category_name']"
   ]
  },
  {
   "cell_type": "markdown",
   "metadata": {},
   "source": [
    "## Translation Function"
   ]
  },
  {
   "cell_type": "code",
   "execution_count": 35,
   "metadata": {},
   "outputs": [],
   "source": [
    "def translate_to_eng(txt, src_lang):\n",
    "    \"\"\"\n",
    "    takes in text in a non-english language\n",
    "    returns the english translation\n",
    "    \"\"\"\n",
    "    \n",
    "    try:\n",
    "        print('it worked')\n",
    "        result = translator.translate(txt, \n",
    "                     src=src_lang, dest=\"en\")\n",
    "    #In case the organization's language label doesn't match the question language\n",
    "    except:\n",
    "        result = translator.translate(txt, dest=\"en\")\n",
    "        \n",
    "    return result.text"
   ]
  },
  {
   "cell_type": "code",
   "execution_count": 32,
   "metadata": {},
   "outputs": [],
   "source": [
    "def translate_unknown_to_eng(txt):\n",
    "    \"\"\"\n",
    "    takes in text in a non-english language (not specified by user)\n",
    "    returns the english translation\n",
    "    \"\"\"\n",
    "    \n",
    "    try:\n",
    "        result = translator.translate(txt,\n",
    "                                    dest=\"en\")\n",
    "        return result.text\n",
    "    #In case the organization's language label doesn't match the question language\n",
    "    except:\n",
    "        return None"
   ]
  },
  {
   "cell_type": "code",
   "execution_count": 33,
   "metadata": {},
   "outputs": [
    {
     "name": "stdout",
     "output_type": "stream",
     "text": [
      "None\n"
     ]
    }
   ],
   "source": [
    "#Testing the function\n",
    "print(translate_unknown_to_eng('Prevencija nasilja'))"
   ]
  },
  {
   "cell_type": "code",
   "execution_count": 40,
   "metadata": {},
   "outputs": [
    {
     "name": "stdout",
     "output_type": "stream",
     "text": [
      "it worked\n"
     ]
    },
    {
     "ename": "AttributeError",
     "evalue": "'NoneType' object has no attribute 'group'",
     "output_type": "error",
     "traceback": [
      "\u001b[1;31m---------------------------------------------------------------------------\u001b[0m",
      "\u001b[1;31mAttributeError\u001b[0m                            Traceback (most recent call last)",
      "\u001b[1;32m<ipython-input-35-ec72b05a62a3>\u001b[0m in \u001b[0;36mtranslate_to_eng\u001b[1;34m(txt, src_lang)\u001b[0m\n\u001b[0;32m      8\u001b[0m         \u001b[0mprint\u001b[0m\u001b[1;33m(\u001b[0m\u001b[1;34m'it worked'\u001b[0m\u001b[1;33m)\u001b[0m\u001b[1;33m\u001b[0m\u001b[1;33m\u001b[0m\u001b[0m\n\u001b[1;32m----> 9\u001b[1;33m         result = translator.translate(txt, \n\u001b[0m\u001b[0;32m     10\u001b[0m                      src=src_lang, dest=\"en\")\n",
      "\u001b[1;32mc:\\users\\hp\\appdata\\local\\programs\\python\\python38-32\\lib\\site-packages\\googletrans\\client.py\u001b[0m in \u001b[0;36mtranslate\u001b[1;34m(self, text, dest, src, **kwargs)\u001b[0m\n",
      "\u001b[1;32mc:\\users\\hp\\appdata\\local\\programs\\python\\python38-32\\lib\\site-packages\\googletrans\\client.py\u001b[0m in \u001b[0;36m_translate\u001b[1;34m(self, text, dest, src, override)\u001b[0m\n",
      "\u001b[1;32mc:\\users\\hp\\appdata\\local\\programs\\python\\python38-32\\lib\\site-packages\\googletrans\\gtoken.py\u001b[0m in \u001b[0;36mdo\u001b[1;34m(self, text)\u001b[0m\n",
      "\u001b[1;32mc:\\users\\hp\\appdata\\local\\programs\\python\\python38-32\\lib\\site-packages\\googletrans\\gtoken.py\u001b[0m in \u001b[0;36m_update\u001b[1;34m(self)\u001b[0m\n",
      "\u001b[1;31mAttributeError\u001b[0m: 'NoneType' object has no attribute 'group'",
      "\nDuring handling of the above exception, another exception occurred:\n",
      "\u001b[1;31mAttributeError\u001b[0m                            Traceback (most recent call last)",
      "\u001b[1;32m<ipython-input-40-b715e566bba4>\u001b[0m in \u001b[0;36m<module>\u001b[1;34m\u001b[0m\n\u001b[1;32m----> 1\u001b[1;33m \u001b[0mprint\u001b[0m\u001b[1;33m(\u001b[0m\u001b[0mtranslate_to_eng\u001b[0m\u001b[1;33m(\u001b[0m\u001b[1;34m'Prevencija nasilja'\u001b[0m\u001b[1;33m,\u001b[0m \u001b[1;34m'hr'\u001b[0m\u001b[1;33m)\u001b[0m\u001b[1;33m)\u001b[0m\u001b[1;33m\u001b[0m\u001b[1;33m\u001b[0m\u001b[0m\n\u001b[0m",
      "\u001b[1;32m<ipython-input-35-ec72b05a62a3>\u001b[0m in \u001b[0;36mtranslate_to_eng\u001b[1;34m(txt, src_lang)\u001b[0m\n\u001b[0;32m     11\u001b[0m     \u001b[1;31m#In case the organization's language label doesn't match the question language\u001b[0m\u001b[1;33m\u001b[0m\u001b[1;33m\u001b[0m\u001b[1;33m\u001b[0m\u001b[0m\n\u001b[0;32m     12\u001b[0m     \u001b[1;32mexcept\u001b[0m\u001b[1;33m:\u001b[0m\u001b[1;33m\u001b[0m\u001b[1;33m\u001b[0m\u001b[0m\n\u001b[1;32m---> 13\u001b[1;33m         \u001b[0mresult\u001b[0m \u001b[1;33m=\u001b[0m \u001b[0mtranslator\u001b[0m\u001b[1;33m.\u001b[0m\u001b[0mtranslate\u001b[0m\u001b[1;33m(\u001b[0m\u001b[0mtxt\u001b[0m\u001b[1;33m,\u001b[0m \u001b[0mdest\u001b[0m\u001b[1;33m=\u001b[0m\u001b[1;34m\"en\"\u001b[0m\u001b[1;33m)\u001b[0m\u001b[1;33m\u001b[0m\u001b[1;33m\u001b[0m\u001b[0m\n\u001b[0m\u001b[0;32m     14\u001b[0m \u001b[1;33m\u001b[0m\u001b[0m\n\u001b[0;32m     15\u001b[0m     \u001b[1;32mreturn\u001b[0m \u001b[0mresult\u001b[0m\u001b[1;33m.\u001b[0m\u001b[0mtext\u001b[0m\u001b[1;33m\u001b[0m\u001b[1;33m\u001b[0m\u001b[0m\n",
      "\u001b[1;32mc:\\users\\hp\\appdata\\local\\programs\\python\\python38-32\\lib\\site-packages\\googletrans\\client.py\u001b[0m in \u001b[0;36mtranslate\u001b[1;34m(self, text, dest, src, **kwargs)\u001b[0m\n",
      "\u001b[1;32mc:\\users\\hp\\appdata\\local\\programs\\python\\python38-32\\lib\\site-packages\\googletrans\\client.py\u001b[0m in \u001b[0;36m_translate\u001b[1;34m(self, text, dest, src, override)\u001b[0m\n",
      "\u001b[1;32mc:\\users\\hp\\appdata\\local\\programs\\python\\python38-32\\lib\\site-packages\\googletrans\\gtoken.py\u001b[0m in \u001b[0;36mdo\u001b[1;34m(self, text)\u001b[0m\n",
      "\u001b[1;32mc:\\users\\hp\\appdata\\local\\programs\\python\\python38-32\\lib\\site-packages\\googletrans\\gtoken.py\u001b[0m in \u001b[0;36m_update\u001b[1;34m(self)\u001b[0m\n",
      "\u001b[1;31mAttributeError\u001b[0m: 'NoneType' object has no attribute 'group'"
     ]
    }
   ],
   "source": [
    "print(translate_to_eng('Prevencija nasilja', 'hr'))"
   ]
  },
  {
   "cell_type": "code",
   "execution_count": 41,
   "metadata": {},
   "outputs": [
    {
     "name": "stdout",
     "output_type": "stream",
     "text": [
      "it worked\n"
     ]
    },
    {
     "ename": "AttributeError",
     "evalue": "'NoneType' object has no attribute 'group'",
     "output_type": "error",
     "traceback": [
      "\u001b[1;31m---------------------------------------------------------------------------\u001b[0m",
      "\u001b[1;31mAttributeError\u001b[0m                            Traceback (most recent call last)",
      "\u001b[1;32m<ipython-input-35-ec72b05a62a3>\u001b[0m in \u001b[0;36mtranslate_to_eng\u001b[1;34m(txt, src_lang)\u001b[0m\n\u001b[0;32m      8\u001b[0m         \u001b[0mprint\u001b[0m\u001b[1;33m(\u001b[0m\u001b[1;34m'it worked'\u001b[0m\u001b[1;33m)\u001b[0m\u001b[1;33m\u001b[0m\u001b[1;33m\u001b[0m\u001b[0m\n\u001b[1;32m----> 9\u001b[1;33m         result = translator.translate(txt, \n\u001b[0m\u001b[0;32m     10\u001b[0m                      src=src_lang, dest=\"en\")\n",
      "\u001b[1;32mc:\\users\\hp\\appdata\\local\\programs\\python\\python38-32\\lib\\site-packages\\googletrans\\client.py\u001b[0m in \u001b[0;36mtranslate\u001b[1;34m(self, text, dest, src, **kwargs)\u001b[0m\n",
      "\u001b[1;32mc:\\users\\hp\\appdata\\local\\programs\\python\\python38-32\\lib\\site-packages\\googletrans\\client.py\u001b[0m in \u001b[0;36m_translate\u001b[1;34m(self, text, dest, src, override)\u001b[0m\n",
      "\u001b[1;32mc:\\users\\hp\\appdata\\local\\programs\\python\\python38-32\\lib\\site-packages\\googletrans\\gtoken.py\u001b[0m in \u001b[0;36mdo\u001b[1;34m(self, text)\u001b[0m\n",
      "\u001b[1;32mc:\\users\\hp\\appdata\\local\\programs\\python\\python38-32\\lib\\site-packages\\googletrans\\gtoken.py\u001b[0m in \u001b[0;36m_update\u001b[1;34m(self)\u001b[0m\n",
      "\u001b[1;31mAttributeError\u001b[0m: 'NoneType' object has no attribute 'group'",
      "\nDuring handling of the above exception, another exception occurred:\n",
      "\u001b[1;31mAttributeError\u001b[0m                            Traceback (most recent call last)",
      "\u001b[1;32m<ipython-input-41-676e6f25e56c>\u001b[0m in \u001b[0;36m<module>\u001b[1;34m\u001b[0m\n\u001b[1;32m----> 1\u001b[1;33m \u001b[0mprint\u001b[0m\u001b[1;33m(\u001b[0m\u001b[0mtranslate_to_eng\u001b[0m\u001b[1;33m(\u001b[0m\u001b[1;34m'Bonjour'\u001b[0m\u001b[1;33m,\u001b[0m \u001b[1;34m'fr'\u001b[0m\u001b[1;33m)\u001b[0m\u001b[1;33m)\u001b[0m\u001b[1;33m\u001b[0m\u001b[1;33m\u001b[0m\u001b[0m\n\u001b[0m",
      "\u001b[1;32m<ipython-input-35-ec72b05a62a3>\u001b[0m in \u001b[0;36mtranslate_to_eng\u001b[1;34m(txt, src_lang)\u001b[0m\n\u001b[0;32m     11\u001b[0m     \u001b[1;31m#In case the organization's language label doesn't match the question language\u001b[0m\u001b[1;33m\u001b[0m\u001b[1;33m\u001b[0m\u001b[1;33m\u001b[0m\u001b[0m\n\u001b[0;32m     12\u001b[0m     \u001b[1;32mexcept\u001b[0m\u001b[1;33m:\u001b[0m\u001b[1;33m\u001b[0m\u001b[1;33m\u001b[0m\u001b[0m\n\u001b[1;32m---> 13\u001b[1;33m         \u001b[0mresult\u001b[0m \u001b[1;33m=\u001b[0m \u001b[0mtranslator\u001b[0m\u001b[1;33m.\u001b[0m\u001b[0mtranslate\u001b[0m\u001b[1;33m(\u001b[0m\u001b[0mtxt\u001b[0m\u001b[1;33m,\u001b[0m \u001b[0mdest\u001b[0m\u001b[1;33m=\u001b[0m\u001b[1;34m\"en\"\u001b[0m\u001b[1;33m)\u001b[0m\u001b[1;33m\u001b[0m\u001b[1;33m\u001b[0m\u001b[0m\n\u001b[0m\u001b[0;32m     14\u001b[0m \u001b[1;33m\u001b[0m\u001b[0m\n\u001b[0;32m     15\u001b[0m     \u001b[1;32mreturn\u001b[0m \u001b[0mresult\u001b[0m\u001b[1;33m.\u001b[0m\u001b[0mtext\u001b[0m\u001b[1;33m\u001b[0m\u001b[1;33m\u001b[0m\u001b[0m\n",
      "\u001b[1;32mc:\\users\\hp\\appdata\\local\\programs\\python\\python38-32\\lib\\site-packages\\googletrans\\client.py\u001b[0m in \u001b[0;36mtranslate\u001b[1;34m(self, text, dest, src, **kwargs)\u001b[0m\n",
      "\u001b[1;32mc:\\users\\hp\\appdata\\local\\programs\\python\\python38-32\\lib\\site-packages\\googletrans\\client.py\u001b[0m in \u001b[0;36m_translate\u001b[1;34m(self, text, dest, src, override)\u001b[0m\n",
      "\u001b[1;32mc:\\users\\hp\\appdata\\local\\programs\\python\\python38-32\\lib\\site-packages\\googletrans\\gtoken.py\u001b[0m in \u001b[0;36mdo\u001b[1;34m(self, text)\u001b[0m\n",
      "\u001b[1;32mc:\\users\\hp\\appdata\\local\\programs\\python\\python38-32\\lib\\site-packages\\googletrans\\gtoken.py\u001b[0m in \u001b[0;36m_update\u001b[1;34m(self)\u001b[0m\n",
      "\u001b[1;31mAttributeError\u001b[0m: 'NoneType' object has no attribute 'group'"
     ]
    }
   ],
   "source": [
    "print(translate_to_eng('Bonjour', 'fr'))"
   ]
  }
 ],
 "metadata": {
  "kernelspec": {
   "display_name": "Python 3",
   "language": "python",
   "name": "python3"
  },
  "language_info": {
   "codemirror_mode": {
    "name": "ipython",
    "version": 3
   },
   "file_extension": ".py",
   "mimetype": "text/x-python",
   "name": "python",
   "nbconvert_exporter": "python",
   "pygments_lexer": "ipython3",
   "version": "3.8.0"
  }
 },
 "nbformat": 4,
 "nbformat_minor": 4
}
